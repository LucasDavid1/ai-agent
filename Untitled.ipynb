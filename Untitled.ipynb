{
 "cells": [
  {
   "cell_type": "code",
   "execution_count": 1,
   "id": "52f011ca-1035-4b50-9de5-592263b4e3de",
   "metadata": {},
   "outputs": [],
   "source": [
    "import os\n",
    "from django.core.wsgi import get_wsgi_application\n",
    "\n",
    "os.environ.setdefault('DJANGO_SETTINGS_MODULE', 'ai_agent.settings')\n",
    "application = get_wsgi_application()"
   ]
  },
  {
   "cell_type": "code",
   "execution_count": 32,
   "id": "d8ff88fa-1525-405a-8fec-f6a1ae95def9",
   "metadata": {},
   "outputs": [
    {
     "data": {
      "text/plain": [
       "<QuerySet [<Band: Queen>, <Band: The Rolling Stones>, <Band: Alien Shape Baloon>]>"
      ]
     },
     "execution_count": 32,
     "metadata": {},
     "output_type": "execute_result"
    }
   ],
   "source": [
    "from chat.models import Band, Artist, Album\n",
    "\n",
    "Band.objects.all()"
   ]
  },
  {
   "cell_type": "code",
   "execution_count": 34,
   "id": "e03bcd81-63f4-4f15-83c8-55cb5c3e76bb",
   "metadata": {},
   "outputs": [
    {
     "data": {
      "text/plain": [
       "<QuerySet [<Artist: Lucas (keyboards)>]>"
      ]
     },
     "execution_count": 34,
     "metadata": {},
     "output_type": "execute_result"
    }
   ],
   "source": [
    "Band.objects.last().members.all()"
   ]
  },
  {
   "cell_type": "code",
   "execution_count": 30,
   "id": "1864fa20-7e9b-4076-a361-323c0843cd31",
   "metadata": {},
   "outputs": [
    {
     "data": {
      "text/plain": [
       "(3, {'chat.Band_members': 1, 'chat.Album': 1, 'chat.Band': 1})"
      ]
     },
     "execution_count": 30,
     "metadata": {},
     "output_type": "execute_result"
    }
   ],
   "source": [
    "Band.objects.last().delete()"
   ]
  }
 ],
 "metadata": {
  "kernelspec": {
   "display_name": "Python 3 (ipykernel)",
   "language": "python",
   "name": "python3"
  },
  "language_info": {
   "codemirror_mode": {
    "name": "ipython",
    "version": 3
   },
   "file_extension": ".py",
   "mimetype": "text/x-python",
   "name": "python",
   "nbconvert_exporter": "python",
   "pygments_lexer": "ipython3",
   "version": "3.11.6"
  }
 },
 "nbformat": 4,
 "nbformat_minor": 5
}
